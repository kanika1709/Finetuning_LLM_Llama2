{
  "cells": [
    {
      "cell_type": "markdown",
      "metadata": {
        "id": "view-in-github",
        "colab_type": "text"
      },
      "source": [
        "<a href=\"https://colab.research.google.com/github/kanika1709/Finetuning_LLM_Llama2/blob/main/LLAMA2%20Finetuning.ipynb\" target=\"_parent\"><img src=\"https://colab.research.google.com/assets/colab-badge.svg\" alt=\"Open In Colab\"/></a>"
      ]
    },
    {
      "cell_type": "code",
      "execution_count": null,
      "metadata": {
        "colab": {
          "base_uri": "https://localhost:8080/"
        },
        "id": "ZjlgfjjOJmP2",
        "outputId": "b156b2da-f250-419f-d53a-c190ad415d4b"
      },
      "outputs": [
        {
          "name": "stdout",
          "output_type": "stream",
          "text": [
            "Cloning into 'llama'...\n",
            "remote: Enumerating objects: 348, done.\u001b[K\n",
            "remote: Counting objects: 100% (4/4), done.\u001b[K\n",
            "remote: Compressing objects: 100% (4/4), done.\u001b[K\n",
            "remote: Total 348 (delta 0), reused 2 (delta 0), pack-reused 344\u001b[K\n",
            "Receiving objects: 100% (348/348), 1.07 MiB | 34.27 MiB/s, done.\n",
            "Resolving deltas: 100% (184/184), done.\n"
          ]
        }
      ],
      "source": [
        "!git clone https://github.com/facebookresearch/llama.git"
      ]
    },
    {
      "cell_type": "code",
      "execution_count": null,
      "metadata": {
        "colab": {
          "base_uri": "https://localhost:8080/"
        },
        "id": "ijQb_oFeJ_v-",
        "outputId": "2974db14-4d1c-4c70-9bb6-cfb1f1b9f778"
      },
      "outputs": [
        {
          "name": "stdout",
          "output_type": "stream",
          "text": [
            "Enter the URL from email: https://download.llamameta.net/*?Policy=eyJTdGF0ZW1lbnQiOlt7InVuaXF1ZV9oYXNoIjoidGtlNzluNnVybzRqOWJ5OHFkYnRnOXJlIiwiUmVzb3VyY2UiOiJodHRwczpcL1wvZG93bmxvYWQubGxhbWFtZXRhLm5ldFwvKiIsIkNvbmRpdGlvbiI6eyJEYXRlTGVzc1RoYW4iOnsiQVdTOkVwb2NoVGltZSI6MTY5NTk3NzA3Nn19fV19&Signature=LB3wGqGVDyPGb72ulOUOxhST%7E7-X35UFAT56PZ7ECnUIIBR3rlG9CVx9PGg4bk5fY9TrktITUsm%7EsVXLNsPUInRdcDYXk8-%7EpAxeVhKwh9oef8-OsJZmvmWHd9MYLiQmVzGL4Ib7ETgg1xlbpdp0Fj5TZR%7ENSrPc%7EbvJUjIQ7EdXrbHKAomn3X5oomn1J6DD1hz84f7cwGpKL1zM5mBG9UpENOOhLX3X98j7LH2KOfBYnhHUjQivhvXaWyRcoD9pYsNvQJ0E6Y6WDOspeJ8tLS8jxSMwi%7Eb5eMZSli9soM3oqFlwcEnTiO9pOQHqqnrBf25Y6Q8nV0R5XdDPfCUksA__&Key-Pair-Id=K15QRJLYKIFSLZ&Download-Request-ID=10090598274346264\n",
            "\n",
            "Enter the list of models to download without spaces (7B,13B,70B,7B-chat,13B-chat,70B-chat), or press Enter for all: 7B\n",
            "Downloading LICENSE and Acceptable Usage Policy\n",
            "--2023-09-28 09:40:31--  https://download.llamameta.net/LICENSE?Policy=eyJTdGF0ZW1lbnQiOlt7InVuaXF1ZV9oYXNoIjoidGtlNzluNnVybzRqOWJ5OHFkYnRnOXJlIiwiUmVzb3VyY2UiOiJodHRwczpcL1wvZG93bmxvYWQubGxhbWFtZXRhLm5ldFwvKiIsIkNvbmRpdGlvbiI6eyJEYXRlTGVzc1RoYW4iOnsiQVdTOkVwb2NoVGltZSI6MTY5NTk3NzA3Nn19fV19&Signature=LB3wGqGVDyPGb72ulOUOxhST%7E7-X35UFAT56PZ7ECnUIIBR3rlG9CVx9PGg4bk5fY9TrktITUsm%7EsVXLNsPUInRdcDYXk8-%7EpAxeVhKwh9oef8-OsJZmvmWHd9MYLiQmVzGL4Ib7ETgg1xlbpdp0Fj5TZR%7ENSrPc%7EbvJUjIQ7EdXrbHKAomn3X5oomn1J6DD1hz84f7cwGpKL1zM5mBG9UpENOOhLX3X98j7LH2KOfBYnhHUjQivhvXaWyRcoD9pYsNvQJ0E6Y6WDOspeJ8tLS8jxSMwi%7Eb5eMZSli9soM3oqFlwcEnTiO9pOQHqqnrBf25Y6Q8nV0R5XdDPfCUksA__&Key-Pair-Id=K15QRJLYKIFSLZ&Download-Request-ID=10090598274346264\n",
            "Resolving download.llamameta.net (download.llamameta.net)... 13.33.88.113, 13.33.88.62, 13.33.88.72, ...\n",
            "Connecting to download.llamameta.net (download.llamameta.net)|13.33.88.113|:443... connected.\n",
            "HTTP request sent, awaiting response... 200 OK\n",
            "Length: 7020 (6.9K) [binary/octet-stream]\n",
            "Saving to: ‘./LICENSE’\n",
            "\n",
            "./LICENSE           100%[===================>]   6.86K  --.-KB/s    in 0s      \n",
            "\n",
            "2023-09-28 09:40:31 (16.5 MB/s) - ‘./LICENSE’ saved [7020/7020]\n",
            "\n",
            "--2023-09-28 09:40:31--  https://download.llamameta.net/USE_POLICY.md?Policy=eyJTdGF0ZW1lbnQiOlt7InVuaXF1ZV9oYXNoIjoidGtlNzluNnVybzRqOWJ5OHFkYnRnOXJlIiwiUmVzb3VyY2UiOiJodHRwczpcL1wvZG93bmxvYWQubGxhbWFtZXRhLm5ldFwvKiIsIkNvbmRpdGlvbiI6eyJEYXRlTGVzc1RoYW4iOnsiQVdTOkVwb2NoVGltZSI6MTY5NTk3NzA3Nn19fV19&Signature=LB3wGqGVDyPGb72ulOUOxhST%7E7-X35UFAT56PZ7ECnUIIBR3rlG9CVx9PGg4bk5fY9TrktITUsm%7EsVXLNsPUInRdcDYXk8-%7EpAxeVhKwh9oef8-OsJZmvmWHd9MYLiQmVzGL4Ib7ETgg1xlbpdp0Fj5TZR%7ENSrPc%7EbvJUjIQ7EdXrbHKAomn3X5oomn1J6DD1hz84f7cwGpKL1zM5mBG9UpENOOhLX3X98j7LH2KOfBYnhHUjQivhvXaWyRcoD9pYsNvQJ0E6Y6WDOspeJ8tLS8jxSMwi%7Eb5eMZSli9soM3oqFlwcEnTiO9pOQHqqnrBf25Y6Q8nV0R5XdDPfCUksA__&Key-Pair-Id=K15QRJLYKIFSLZ&Download-Request-ID=10090598274346264\n",
            "Resolving download.llamameta.net (download.llamameta.net)... 13.33.88.113, 13.33.88.62, 13.33.88.72, ...\n",
            "Connecting to download.llamameta.net (download.llamameta.net)|13.33.88.113|:443... connected.\n",
            "HTTP request sent, awaiting response... 200 OK\n",
            "Length: 4766 (4.7K) [binary/octet-stream]\n",
            "Saving to: ‘./USE_POLICY.md’\n",
            "\n",
            "./USE_POLICY.md     100%[===================>]   4.65K  --.-KB/s    in 0s      \n",
            "\n",
            "2023-09-28 09:40:31 (308 MB/s) - ‘./USE_POLICY.md’ saved [4766/4766]\n",
            "\n",
            "Downloading tokenizer\n",
            "--2023-09-28 09:40:31--  https://download.llamameta.net/tokenizer.model?Policy=eyJTdGF0ZW1lbnQiOlt7InVuaXF1ZV9oYXNoIjoidGtlNzluNnVybzRqOWJ5OHFkYnRnOXJlIiwiUmVzb3VyY2UiOiJodHRwczpcL1wvZG93bmxvYWQubGxhbWFtZXRhLm5ldFwvKiIsIkNvbmRpdGlvbiI6eyJEYXRlTGVzc1RoYW4iOnsiQVdTOkVwb2NoVGltZSI6MTY5NTk3NzA3Nn19fV19&Signature=LB3wGqGVDyPGb72ulOUOxhST%7E7-X35UFAT56PZ7ECnUIIBR3rlG9CVx9PGg4bk5fY9TrktITUsm%7EsVXLNsPUInRdcDYXk8-%7EpAxeVhKwh9oef8-OsJZmvmWHd9MYLiQmVzGL4Ib7ETgg1xlbpdp0Fj5TZR%7ENSrPc%7EbvJUjIQ7EdXrbHKAomn3X5oomn1J6DD1hz84f7cwGpKL1zM5mBG9UpENOOhLX3X98j7LH2KOfBYnhHUjQivhvXaWyRcoD9pYsNvQJ0E6Y6WDOspeJ8tLS8jxSMwi%7Eb5eMZSli9soM3oqFlwcEnTiO9pOQHqqnrBf25Y6Q8nV0R5XdDPfCUksA__&Key-Pair-Id=K15QRJLYKIFSLZ&Download-Request-ID=10090598274346264\n",
            "Resolving download.llamameta.net (download.llamameta.net)... 13.33.88.113, 13.33.88.62, 13.33.88.72, ...\n",
            "Connecting to download.llamameta.net (download.llamameta.net)|13.33.88.113|:443... connected.\n",
            "HTTP request sent, awaiting response... 200 OK\n",
            "Length: 499723 (488K) [binary/octet-stream]\n",
            "Saving to: ‘./tokenizer.model’\n",
            "\n",
            "./tokenizer.model   100%[===================>] 488.01K  --.-KB/s    in 0.01s   \n",
            "\n",
            "2023-09-28 09:40:31 (40.7 MB/s) - ‘./tokenizer.model’ saved [499723/499723]\n",
            "\n",
            "--2023-09-28 09:40:31--  https://download.llamameta.net/tokenizer_checklist.chk?Policy=eyJTdGF0ZW1lbnQiOlt7InVuaXF1ZV9oYXNoIjoidGtlNzluNnVybzRqOWJ5OHFkYnRnOXJlIiwiUmVzb3VyY2UiOiJodHRwczpcL1wvZG93bmxvYWQubGxhbWFtZXRhLm5ldFwvKiIsIkNvbmRpdGlvbiI6eyJEYXRlTGVzc1RoYW4iOnsiQVdTOkVwb2NoVGltZSI6MTY5NTk3NzA3Nn19fV19&Signature=LB3wGqGVDyPGb72ulOUOxhST%7E7-X35UFAT56PZ7ECnUIIBR3rlG9CVx9PGg4bk5fY9TrktITUsm%7EsVXLNsPUInRdcDYXk8-%7EpAxeVhKwh9oef8-OsJZmvmWHd9MYLiQmVzGL4Ib7ETgg1xlbpdp0Fj5TZR%7ENSrPc%7EbvJUjIQ7EdXrbHKAomn3X5oomn1J6DD1hz84f7cwGpKL1zM5mBG9UpENOOhLX3X98j7LH2KOfBYnhHUjQivhvXaWyRcoD9pYsNvQJ0E6Y6WDOspeJ8tLS8jxSMwi%7Eb5eMZSli9soM3oqFlwcEnTiO9pOQHqqnrBf25Y6Q8nV0R5XdDPfCUksA__&Key-Pair-Id=K15QRJLYKIFSLZ&Download-Request-ID=10090598274346264\n",
            "Resolving download.llamameta.net (download.llamameta.net)... 13.33.88.113, 13.33.88.62, 13.33.88.72, ...\n",
            "Connecting to download.llamameta.net (download.llamameta.net)|13.33.88.113|:443... connected.\n",
            "HTTP request sent, awaiting response... 200 OK\n",
            "Length: 50 [binary/octet-stream]\n",
            "Saving to: ‘./tokenizer_checklist.chk’\n",
            "\n",
            "./tokenizer_checkli 100%[===================>]      50  --.-KB/s    in 0s      \n",
            "\n",
            "2023-09-28 09:40:31 (149 KB/s) - ‘./tokenizer_checklist.chk’ saved [50/50]\n",
            "\n",
            "tokenizer.model: OK\n",
            "Downloading llama-2-7b\n",
            "--2023-09-28 09:40:31--  https://download.llamameta.net/llama-2-7b/consolidated.00.pth?Policy=eyJTdGF0ZW1lbnQiOlt7InVuaXF1ZV9oYXNoIjoidGtlNzluNnVybzRqOWJ5OHFkYnRnOXJlIiwiUmVzb3VyY2UiOiJodHRwczpcL1wvZG93bmxvYWQubGxhbWFtZXRhLm5ldFwvKiIsIkNvbmRpdGlvbiI6eyJEYXRlTGVzc1RoYW4iOnsiQVdTOkVwb2NoVGltZSI6MTY5NTk3NzA3Nn19fV19&Signature=LB3wGqGVDyPGb72ulOUOxhST%7E7-X35UFAT56PZ7ECnUIIBR3rlG9CVx9PGg4bk5fY9TrktITUsm%7EsVXLNsPUInRdcDYXk8-%7EpAxeVhKwh9oef8-OsJZmvmWHd9MYLiQmVzGL4Ib7ETgg1xlbpdp0Fj5TZR%7ENSrPc%7EbvJUjIQ7EdXrbHKAomn3X5oomn1J6DD1hz84f7cwGpKL1zM5mBG9UpENOOhLX3X98j7LH2KOfBYnhHUjQivhvXaWyRcoD9pYsNvQJ0E6Y6WDOspeJ8tLS8jxSMwi%7Eb5eMZSli9soM3oqFlwcEnTiO9pOQHqqnrBf25Y6Q8nV0R5XdDPfCUksA__&Key-Pair-Id=K15QRJLYKIFSLZ&Download-Request-ID=10090598274346264\n",
            "Resolving download.llamameta.net (download.llamameta.net)... 13.33.88.113, 13.33.88.62, 13.33.88.72, ...\n",
            "Connecting to download.llamameta.net (download.llamameta.net)|13.33.88.113|:443... connected.\n",
            "HTTP request sent, awaiting response... 200 OK\n",
            "Length: 13476925163 (13G) [binary/octet-stream]\n",
            "Saving to: ‘./llama-2-7b/consolidated.00.pth’\n",
            "\n",
            "./llama-2-7b/consol 100%[===================>]  12.55G   133MB/s    in 83s     \n",
            "\n",
            "2023-09-28 09:41:55 (156 MB/s) - ‘./llama-2-7b/consolidated.00.pth’ saved [13476925163/13476925163]\n",
            "\n",
            "--2023-09-28 09:41:55--  https://download.llamameta.net/llama-2-7b/params.json?Policy=eyJTdGF0ZW1lbnQiOlt7InVuaXF1ZV9oYXNoIjoidGtlNzluNnVybzRqOWJ5OHFkYnRnOXJlIiwiUmVzb3VyY2UiOiJodHRwczpcL1wvZG93bmxvYWQubGxhbWFtZXRhLm5ldFwvKiIsIkNvbmRpdGlvbiI6eyJEYXRlTGVzc1RoYW4iOnsiQVdTOkVwb2NoVGltZSI6MTY5NTk3NzA3Nn19fV19&Signature=LB3wGqGVDyPGb72ulOUOxhST%7E7-X35UFAT56PZ7ECnUIIBR3rlG9CVx9PGg4bk5fY9TrktITUsm%7EsVXLNsPUInRdcDYXk8-%7EpAxeVhKwh9oef8-OsJZmvmWHd9MYLiQmVzGL4Ib7ETgg1xlbpdp0Fj5TZR%7ENSrPc%7EbvJUjIQ7EdXrbHKAomn3X5oomn1J6DD1hz84f7cwGpKL1zM5mBG9UpENOOhLX3X98j7LH2KOfBYnhHUjQivhvXaWyRcoD9pYsNvQJ0E6Y6WDOspeJ8tLS8jxSMwi%7Eb5eMZSli9soM3oqFlwcEnTiO9pOQHqqnrBf25Y6Q8nV0R5XdDPfCUksA__&Key-Pair-Id=K15QRJLYKIFSLZ&Download-Request-ID=10090598274346264\n",
            "Resolving download.llamameta.net (download.llamameta.net)... 13.33.88.45, 13.33.88.72, 13.33.88.113, ...\n",
            "Connecting to download.llamameta.net (download.llamameta.net)|13.33.88.45|:443... connected.\n",
            "HTTP request sent, awaiting response... 200 OK\n",
            "Length: 102 [application/json]\n",
            "Saving to: ‘./llama-2-7b/params.json’\n",
            "\n",
            "./llama-2-7b/params 100%[===================>]     102  --.-KB/s    in 0s      \n",
            "\n",
            "2023-09-28 09:41:56 (75.4 MB/s) - ‘./llama-2-7b/params.json’ saved [102/102]\n",
            "\n",
            "--2023-09-28 09:41:56--  https://download.llamameta.net/llama-2-7b/checklist.chk?Policy=eyJTdGF0ZW1lbnQiOlt7InVuaXF1ZV9oYXNoIjoidGtlNzluNnVybzRqOWJ5OHFkYnRnOXJlIiwiUmVzb3VyY2UiOiJodHRwczpcL1wvZG93bmxvYWQubGxhbWFtZXRhLm5ldFwvKiIsIkNvbmRpdGlvbiI6eyJEYXRlTGVzc1RoYW4iOnsiQVdTOkVwb2NoVGltZSI6MTY5NTk3NzA3Nn19fV19&Signature=LB3wGqGVDyPGb72ulOUOxhST%7E7-X35UFAT56PZ7ECnUIIBR3rlG9CVx9PGg4bk5fY9TrktITUsm%7EsVXLNsPUInRdcDYXk8-%7EpAxeVhKwh9oef8-OsJZmvmWHd9MYLiQmVzGL4Ib7ETgg1xlbpdp0Fj5TZR%7ENSrPc%7EbvJUjIQ7EdXrbHKAomn3X5oomn1J6DD1hz84f7cwGpKL1zM5mBG9UpENOOhLX3X98j7LH2KOfBYnhHUjQivhvXaWyRcoD9pYsNvQJ0E6Y6WDOspeJ8tLS8jxSMwi%7Eb5eMZSli9soM3oqFlwcEnTiO9pOQHqqnrBf25Y6Q8nV0R5XdDPfCUksA__&Key-Pair-Id=K15QRJLYKIFSLZ&Download-Request-ID=10090598274346264\n",
            "Resolving download.llamameta.net (download.llamameta.net)... 13.33.88.45, 13.33.88.72, 13.33.88.113, ...\n",
            "Connecting to download.llamameta.net (download.llamameta.net)|13.33.88.45|:443... connected.\n",
            "HTTP request sent, awaiting response... 200 OK\n",
            "Length: 100 [binary/octet-stream]\n",
            "Saving to: ‘./llama-2-7b/checklist.chk’\n",
            "\n",
            "./llama-2-7b/checkl 100%[===================>]     100  --.-KB/s    in 0s      \n",
            "\n",
            "2023-09-28 09:41:57 (283 KB/s) - ‘./llama-2-7b/checklist.chk’ saved [100/100]\n",
            "\n",
            "Checking checksums\n",
            "consolidated.00.pth: OK\n",
            "params.json: OK\n"
          ]
        }
      ],
      "source": [
        "!bash /content/llama/download.sh"
      ]
    },
    {
      "cell_type": "code",
      "execution_count": null,
      "metadata": {
        "colab": {
          "base_uri": "https://localhost:8080/"
        },
        "id": "HNgQOu2VKSfC",
        "outputId": "f513bef9-e27b-4d6c-e9b6-e61f5ebe5990"
      },
      "outputs": [
        {
          "name": "stdout",
          "output_type": "stream",
          "text": [
            "--2023-09-28 09:45:40--  https://raw.githubusercontent.com/huggingface/transformers/main/src/transformers/models/llama/convert_llama_weights_to_hf.py\n",
            "Resolving raw.githubusercontent.com (raw.githubusercontent.com)... 185.199.110.133, 185.199.111.133, 185.199.108.133, ...\n",
            "Connecting to raw.githubusercontent.com (raw.githubusercontent.com)|185.199.110.133|:443... connected.\n",
            "HTTP request sent, awaiting response... 200 OK\n",
            "Length: 13231 (13K) [text/plain]\n",
            "Saving to: ‘convert_llama_weights_to_hf.py’\n",
            "\n",
            "convert_llama_weigh 100%[===================>]  12.92K  --.-KB/s    in 0s      \n",
            "\n",
            "2023-09-28 09:45:40 (108 MB/s) - ‘convert_llama_weights_to_hf.py’ saved [13231/13231]\n",
            "\n"
          ]
        }
      ],
      "source": [
        "!wget https://raw.githubusercontent.com/huggingface/transformers/main/src/transformers/models/llama/convert_llama_weights_to_hf.py"
      ]
    },
    {
      "cell_type": "code",
      "execution_count": null,
      "metadata": {
        "colab": {
          "base_uri": "https://localhost:8080/"
        },
        "id": "6pzBoD_0LUds",
        "outputId": "2ec343ac-da05-44f9-c0d8-c25828e987ac"
      },
      "outputs": [
        {
          "name": "stdout",
          "output_type": "stream",
          "text": [
            "Collecting git+https://github.com/huggingface/transformers\n",
            "  Cloning https://github.com/huggingface/transformers to /tmp/pip-req-build-uz2w9ki9\n",
            "  Running command git clone --filter=blob:none --quiet https://github.com/huggingface/transformers /tmp/pip-req-build-uz2w9ki9\n",
            "  Resolved https://github.com/huggingface/transformers to commit 216dff7549386f3f9ce0b79fd058343b6883ede9\n",
            "  Installing build dependencies ... \u001b[?25l\u001b[?25hdone\n",
            "  Getting requirements to build wheel ... \u001b[?25l\u001b[?25hdone\n",
            "  Preparing metadata (pyproject.toml) ... \u001b[?25l\u001b[?25hdone\n",
            "Requirement already satisfied: filelock in /usr/local/lib/python3.10/dist-packages (from transformers==4.34.0.dev0) (3.12.2)\n",
            "Collecting huggingface-hub<1.0,>=0.16.4 (from transformers==4.34.0.dev0)\n",
            "  Downloading huggingface_hub-0.17.3-py3-none-any.whl (295 kB)\n",
            "\u001b[2K     \u001b[90m━━━━━━━━━━━━━━━━━━━━━━━━━━━━━━━━━━━━━━━\u001b[0m \u001b[32m295.0/295.0 kB\u001b[0m \u001b[31m5.4 MB/s\u001b[0m eta \u001b[36m0:00:00\u001b[0m\n",
            "\u001b[?25hRequirement already satisfied: numpy>=1.17 in /usr/local/lib/python3.10/dist-packages (from transformers==4.34.0.dev0) (1.23.5)\n",
            "Requirement already satisfied: packaging>=20.0 in /usr/local/lib/python3.10/dist-packages (from transformers==4.34.0.dev0) (23.1)\n",
            "Requirement already satisfied: pyyaml>=5.1 in /usr/local/lib/python3.10/dist-packages (from transformers==4.34.0.dev0) (6.0.1)\n",
            "Requirement already satisfied: regex!=2019.12.17 in /usr/local/lib/python3.10/dist-packages (from transformers==4.34.0.dev0) (2023.6.3)\n",
            "Requirement already satisfied: requests in /usr/local/lib/python3.10/dist-packages (from transformers==4.34.0.dev0) (2.31.0)\n",
            "Collecting tokenizers<0.15,>=0.14 (from transformers==4.34.0.dev0)\n",
            "  Downloading tokenizers-0.14.0-cp310-cp310-manylinux_2_17_x86_64.manylinux2014_x86_64.whl (3.8 MB)\n",
            "\u001b[2K     \u001b[90m━━━━━━━━━━━━━━━━━━━━━━━━━━━━━━━━━━━━━━━━\u001b[0m \u001b[32m3.8/3.8 MB\u001b[0m \u001b[31m62.1 MB/s\u001b[0m eta \u001b[36m0:00:00\u001b[0m\n",
            "\u001b[?25hCollecting safetensors>=0.3.1 (from transformers==4.34.0.dev0)\n",
            "  Downloading safetensors-0.3.3-cp310-cp310-manylinux_2_17_x86_64.manylinux2014_x86_64.whl (1.3 MB)\n",
            "\u001b[2K     \u001b[90m━━━━━━━━━━━━━━━━━━━━━━━━━━━━━━━━━━━━━━━━\u001b[0m \u001b[32m1.3/1.3 MB\u001b[0m \u001b[31m66.8 MB/s\u001b[0m eta \u001b[36m0:00:00\u001b[0m\n",
            "\u001b[?25hRequirement already satisfied: tqdm>=4.27 in /usr/local/lib/python3.10/dist-packages (from transformers==4.34.0.dev0) (4.66.1)\n",
            "Requirement already satisfied: fsspec in /usr/local/lib/python3.10/dist-packages (from huggingface-hub<1.0,>=0.16.4->transformers==4.34.0.dev0) (2023.6.0)\n",
            "Requirement already satisfied: typing-extensions>=3.7.4.3 in /usr/local/lib/python3.10/dist-packages (from huggingface-hub<1.0,>=0.16.4->transformers==4.34.0.dev0) (4.5.0)\n",
            "Collecting huggingface-hub<1.0,>=0.16.4 (from transformers==4.34.0.dev0)\n",
            "  Downloading huggingface_hub-0.16.4-py3-none-any.whl (268 kB)\n",
            "\u001b[2K     \u001b[90m━━━━━━━━━━━━━━━━━━━━━━━━━━━━━━━━━━━━━━\u001b[0m \u001b[32m268.8/268.8 kB\u001b[0m \u001b[31m30.9 MB/s\u001b[0m eta \u001b[36m0:00:00\u001b[0m\n",
            "\u001b[?25hRequirement already satisfied: charset-normalizer<4,>=2 in /usr/local/lib/python3.10/dist-packages (from requests->transformers==4.34.0.dev0) (3.2.0)\n",
            "Requirement already satisfied: idna<4,>=2.5 in /usr/local/lib/python3.10/dist-packages (from requests->transformers==4.34.0.dev0) (3.4)\n",
            "Requirement already satisfied: urllib3<3,>=1.21.1 in /usr/local/lib/python3.10/dist-packages (from requests->transformers==4.34.0.dev0) (2.0.4)\n",
            "Requirement already satisfied: certifi>=2017.4.17 in /usr/local/lib/python3.10/dist-packages (from requests->transformers==4.34.0.dev0) (2023.7.22)\n",
            "Building wheels for collected packages: transformers\n",
            "  Building wheel for transformers (pyproject.toml) ... \u001b[?25l\u001b[?25hdone\n",
            "  Created wheel for transformers: filename=transformers-4.34.0.dev0-py3-none-any.whl size=7746432 sha256=8fcb18a26a42c2256e400a58c0f914aa217dd2e977f7342813df92b822a4cd1d\n",
            "  Stored in directory: /tmp/pip-ephem-wheel-cache-rqenss9g/wheels/c0/14/d6/6c9a5582d2ac191ec0a483be151a4495fe1eb2a6706ca49f1b\n",
            "Successfully built transformers\n",
            "Installing collected packages: safetensors, huggingface-hub, tokenizers, transformers\n",
            "Successfully installed huggingface-hub-0.16.4 safetensors-0.3.3 tokenizers-0.14.0 transformers-4.34.0.dev0\n"
          ]
        }
      ],
      "source": [
        "!pip install git+https://github.com/huggingface/transformers"
      ]
    },
    {
      "cell_type": "code",
      "execution_count": null,
      "metadata": {
        "colab": {
          "background_save": true
        },
        "id": "EvtOxI1NLZuK",
        "outputId": "7deb13dc-52f1-4219-be2f-410725710d30"
      },
      "outputs": [
        {
          "name": "stdout",
          "output_type": "stream",
          "text": [
            "Requirement already satisfied: protobuf in /usr/local/lib/python3.10/dist-packages (3.20.3)\n",
            "Collecting accelerate\n",
            "  Downloading accelerate-0.23.0-py3-none-any.whl (258 kB)\n",
            "\u001b[2K     \u001b[90m━━━━━━━━━━━━━━━━━━━━━━━━━━━━━━━━━━━━━━━\u001b[0m \u001b[32m258.1/258.1 kB\u001b[0m \u001b[31m4.3 MB/s\u001b[0m eta \u001b[36m0:00:00\u001b[0m\n",
            "\u001b[?25hCollecting bitsandbytes\n",
            "  Downloading bitsandbytes-0.41.1-py3-none-any.whl (92.6 MB)\n",
            "\u001b[2K     \u001b[90m━━━━━━━━━━━━━━━━━━━━━━━━━━━━━━━━━━━━━━━━\u001b[0m \u001b[32m92.6/92.6 MB\u001b[0m \u001b[31m9.0 MB/s\u001b[0m eta \u001b[36m0:00:00\u001b[0m\n",
            "\u001b[?25hRequirement already satisfied: scipy in /usr/local/lib/python3.10/dist-packages (1.11.2)\n",
            "Requirement already satisfied: numpy>=1.17 in /usr/local/lib/python3.10/dist-packages (from accelerate) (1.23.5)\n",
            "Requirement already satisfied: packaging>=20.0 in /usr/local/lib/python3.10/dist-packages (from accelerate) (23.1)\n",
            "Requirement already satisfied: psutil in /usr/local/lib/python3.10/dist-packages (from accelerate) (5.9.5)\n",
            "Requirement already satisfied: pyyaml in /usr/local/lib/python3.10/dist-packages (from accelerate) (6.0.1)\n",
            "Requirement already satisfied: torch>=1.10.0 in /usr/local/lib/python3.10/dist-packages (from accelerate) (2.0.1+cu118)\n",
            "Requirement already satisfied: huggingface-hub in /usr/local/lib/python3.10/dist-packages (from accelerate) (0.16.4)\n",
            "Requirement already satisfied: filelock in /usr/local/lib/python3.10/dist-packages (from torch>=1.10.0->accelerate) (3.12.2)\n",
            "Requirement already satisfied: typing-extensions in /usr/local/lib/python3.10/dist-packages (from torch>=1.10.0->accelerate) (4.5.0)\n",
            "Requirement already satisfied: sympy in /usr/local/lib/python3.10/dist-packages (from torch>=1.10.0->accelerate) (1.12)\n",
            "Requirement already satisfied: networkx in /usr/local/lib/python3.10/dist-packages (from torch>=1.10.0->accelerate) (3.1)\n",
            "Requirement already satisfied: jinja2 in /usr/local/lib/python3.10/dist-packages (from torch>=1.10.0->accelerate) (3.1.2)\n",
            "Requirement already satisfied: triton==2.0.0 in /usr/local/lib/python3.10/dist-packages (from torch>=1.10.0->accelerate) (2.0.0)\n",
            "Requirement already satisfied: cmake in /usr/local/lib/python3.10/dist-packages (from triton==2.0.0->torch>=1.10.0->accelerate) (3.27.4.1)\n",
            "Requirement already satisfied: lit in /usr/local/lib/python3.10/dist-packages (from triton==2.0.0->torch>=1.10.0->accelerate) (16.0.6)\n",
            "Requirement already satisfied: fsspec in /usr/local/lib/python3.10/dist-packages (from huggingface-hub->accelerate) (2023.6.0)\n",
            "Requirement already satisfied: requests in /usr/local/lib/python3.10/dist-packages (from huggingface-hub->accelerate) (2.31.0)\n",
            "Requirement already satisfied: tqdm>=4.42.1 in /usr/local/lib/python3.10/dist-packages (from huggingface-hub->accelerate) (4.66.1)\n",
            "Requirement already satisfied: MarkupSafe>=2.0 in /usr/local/lib/python3.10/dist-packages (from jinja2->torch>=1.10.0->accelerate) (2.1.3)\n",
            "Requirement already satisfied: charset-normalizer<4,>=2 in /usr/local/lib/python3.10/dist-packages (from requests->huggingface-hub->accelerate) (3.2.0)\n",
            "Requirement already satisfied: idna<4,>=2.5 in /usr/local/lib/python3.10/dist-packages (from requests->huggingface-hub->accelerate) (3.4)\n",
            "Requirement already satisfied: urllib3<3,>=1.21.1 in /usr/local/lib/python3.10/dist-packages (from requests->huggingface-hub->accelerate) (2.0.4)\n",
            "Requirement already satisfied: certifi>=2017.4.17 in /usr/local/lib/python3.10/dist-packages (from requests->huggingface-hub->accelerate) (2023.7.22)\n",
            "Requirement already satisfied: mpmath>=0.19 in /usr/local/lib/python3.10/dist-packages (from sympy->torch>=1.10.0->accelerate) (1.3.0)\n",
            "Installing collected packages: bitsandbytes, accelerate\n",
            "Successfully installed accelerate-0.23.0 bitsandbytes-0.41.1\n",
            "Collecting sentencepiece\n",
            "  Downloading sentencepiece-0.1.99-cp310-cp310-manylinux_2_17_x86_64.manylinux2014_x86_64.whl (1.3 MB)\n",
            "\u001b[2K     \u001b[90m━━━━━━━━━━━━━━━━━━━━━━━━━━━━━━━━━━━━━━━━\u001b[0m \u001b[32m1.3/1.3 MB\u001b[0m \u001b[31m19.8 MB/s\u001b[0m eta \u001b[36m0:00:00\u001b[0m\n",
            "\u001b[?25hInstalling collected packages: sentencepiece\n",
            "Successfully installed sentencepiece-0.1.99\n"
          ]
        }
      ],
      "source": [
        "!pip install protobuf accelerate bitsandbytes scipy\n",
        "!pip install sentencepiece"
      ]
    },
    {
      "cell_type": "code",
      "execution_count": null,
      "metadata": {
        "id": "slVbk_GTLfJo"
      },
      "outputs": [],
      "source": [
        "!git clone https://github.com/facebookresearch/llama-recipes.git"
      ]
    }
  ],
  "metadata": {
    "accelerator": "GPU",
    "colab": {
      "provenance": [],
      "authorship_tag": "ABX9TyNnNjRW5fWjhtAK4pVUnyz/",
      "include_colab_link": true
    },
    "kernelspec": {
      "display_name": "Python 3",
      "name": "python3"
    },
    "language_info": {
      "name": "python"
    }
  },
  "nbformat": 4,
  "nbformat_minor": 0
}